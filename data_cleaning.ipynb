{
 "cells": [
  {
   "cell_type": "code",
   "execution_count": null,
   "id": "d7e972db-2402-4881-a573-769283b977a1",
   "metadata": {},
   "outputs": [],
   "source": [
    "import pandas as pd"
   ]
  },
  {
   "cell_type": "code",
   "execution_count": null,
   "id": "462e0f25-75a2-45b5-98cb-450ec6285962",
   "metadata": {},
   "outputs": [],
   "source": [
    "df = pd.read_csv('cyberbullying_tweets.csv')\n",
    "df.head()"
   ]
  },
  {
   "cell_type": "code",
   "execution_count": null,
   "id": "39270cd0-c7e7-455c-b14d-eea0beaaf445",
   "metadata": {},
   "outputs": [],
   "source": [
    "indexes = (df[(df['tweet_text'].str.contains('https://t.co/', case=False)) & (df['tweet_text'].str.len() <= 60)]).index\n",
    "df.drop(indexes, inplace=True)\n",
    "df[(df['tweet_text'].str.contains('https://t.co/', case=False)) & (df['tweet_text'].str.len() <= 60)]"
   ]
  },
  {
   "cell_type": "code",
   "execution_count": null,
   "id": "b8e5a8ae-3c81-4264-b1dd-3e3feb1751e0",
   "metadata": {},
   "outputs": [],
   "source": [
    "ex_df = pd.DataFrame(columns=df.columns)\n",
    "for i in range(2):\n",
    "    for category in df['cyberbullying_type'].unique():\n",
    "        ex_row = df[df['cyberbullying_type'] == category].head(1)\n",
    "        ex_df = pd.concat([ex_df, ex_row], ignore_index=True)\n",
    "        df.drop(ex_row.index, inplace=True)\n"
   ]
  },
  {
   "cell_type": "code",
   "execution_count": null,
   "id": "cdbee7bd-72ce-4718-afa9-4837cc8de192",
   "metadata": {},
   "outputs": [],
   "source": [
    "df = df[df.columns[::-1]]\n",
    "ex_df = ex_df[ex_df.columns[::-1]]\n",
    "df.to_csv('reports.csv', index=False, header=False)\n",
    "ex_df.to_csv('teste.csv', index=False, header=False)"
   ]
  }
 ],
 "metadata": {
  "kernelspec": {
   "display_name": "Python 3 (ipykernel)",
   "language": "python",
   "name": "python3"
  },
  "language_info": {
   "codemirror_mode": {
    "name": "ipython",
    "version": 3
   },
   "file_extension": ".py",
   "mimetype": "text/x-python",
   "name": "python",
   "nbconvert_exporter": "python",
   "pygments_lexer": "ipython3",
   "version": "3.10.13"
  }
 },
 "nbformat": 4,
 "nbformat_minor": 5
}
