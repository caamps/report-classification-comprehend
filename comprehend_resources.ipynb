{
 "cells": [
  {
   "cell_type": "code",
   "execution_count": null,
   "id": "14b24cea-65ff-4437-9579-03d84eb91b3e",
   "metadata": {},
   "outputs": [],
   "source": [
    "import boto3\n",
    "from sagemaker import get_execution_role\n",
    "import time\n",
    "from datetime import datetime"
   ]
  },
  {
   "cell_type": "code",
   "execution_count": null,
   "id": "0b510f74-075a-4625-b59d-6033fce55720",
   "metadata": {},
   "outputs": [],
   "source": [
    "comprehend = boto3.client('comprehend')\n",
    "s3 = boto3.client('s3')\n",
    "role = get_execution_role()\n",
    "role"
   ]
  },
  {
   "cell_type": "code",
   "execution_count": null,
   "id": "a654032b-2f28-4551-89fa-83b6bf43dd97",
   "metadata": {},
   "outputs": [],
   "source": [
    "file_path = 'reports.csv'\n",
    "bucket_name = 'comprehend-classification-datasets'\n",
    "key = 'reports.csv'\n",
    "\n",
    "response = s3.upload_file(file_path, bucket_name, key)\n",
    "response"
   ]
  },
  {
   "cell_type": "code",
   "execution_count": null,
   "id": "8fe882ba-f467-4bd5-bccc-b9bc7377baed",
   "metadata": {},
   "outputs": [],
   "source": [
    "comprehend_role_arn = 'arn:aws:iam::590184001591:role/comprehend-role'\n",
    "classifier_response = comprehend.create_document_classifier(\n",
    "    DocumentClassifierName = 'reports-classifier',\n",
    "    LanguageCode = 'en',\n",
    "    InputDataConfig = {\n",
    "        'S3Uri': 's3://' + bucket_name + '/' + key\n",
    "    },\n",
    "    DataAccessRoleArn=comprehend_role_arn\n",
    ")\n",
    "classifier_response"
   ]
  },
  {
   "cell_type": "code",
   "execution_count": null,
   "id": "e9501f37-d1ad-4975-a1ad-7446c1b53922",
   "metadata": {},
   "outputs": [],
   "source": [
    "classifier_arn = classifier_response['DocumentClassifierArn']\n",
    "max_time = time.time() + 3*60*60\n",
    "while time.time() < max_time:\n",
    "    classifier_description = comprehend.describe_document_classifier(\n",
    "        DocumentClassifierArn=classifier_arn\n",
    "    )\n",
    "    status = classifier_description['DocumentClassifierProperties']['Status']\n",
    "    current_time = datetime.fromtimestamp(time.time()).strftime('%Y-%m-%d %H:%M:%S')\n",
    "    print('Status: ' + status, current_time)\n",
    "    \n",
    "    if status != 'TRAINING' and status != 'SUBMITTED':\n",
    "        break\n",
    "        \n",
    "    time.sleep(60)"
   ]
  },
  {
   "cell_type": "code",
   "execution_count": null,
   "id": "2db27e0a-cac7-4173-b4f7-7eba2e344888",
   "metadata": {},
   "outputs": [],
   "source": [
    "endpoint_response = comprehend.create_endpoint(\n",
    "    EndpointName='report-classification-endpoint',\n",
    "    ModelArn = classifier_arn,\n",
    "    DesiredInferenceUnits=1\n",
    ")\n",
    "endpoint_response"
   ]
  },
  {
   "cell_type": "code",
   "execution_count": null,
   "id": "c0d28d04-28e7-43e5-a422-4d36ba067fd0",
   "metadata": {},
   "outputs": [],
   "source": [
    "endpoint_arn = endpoint_response['EndpointArn']\n",
    "\n",
    "max_time = time.time() + 3*60*60\n",
    "while time.time() < max_time:\n",
    "    endpoint_description = comprehend.describe_endpoint(\n",
    "        EndpointArn=endpoint_arn\n",
    "    )\n",
    "    status = endpoint_description['EndpointProperties']['Status']\n",
    "    current_time = datetime.fromtimestamp(time.time()).strftime('%Y-%m-%d %H:%M:%S')\n",
    "    print('Status: ' + status, current_time)\n",
    "    \n",
    "    if status != 'CREATING':\n",
    "        break\n",
    "        \n",
    "    time.sleep(60)"
   ]
  }
 ],
 "metadata": {
  "kernelspec": {
   "display_name": "Python 3 (ipykernel)",
   "language": "python",
   "name": "python3"
  },
  "language_info": {
   "codemirror_mode": {
    "name": "ipython",
    "version": 3
   },
   "file_extension": ".py",
   "mimetype": "text/x-python",
   "name": "python",
   "nbconvert_exporter": "python",
   "pygments_lexer": "ipython3",
   "version": "3.10.13"
  }
 },
 "nbformat": 4,
 "nbformat_minor": 5
}
