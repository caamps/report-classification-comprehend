{
  "cells": [
    {
      "cell_type": "markdown",
      "source": [
        "#Comprehend resources notebook\n",
        "Esse notebok é utilizado para interagir com os recursos do Amazon Comprehend, via boto3."
      ],
      "metadata": {
        "id": "nElOBen4domh"
      },
      "id": "nElOBen4domh"
    },
    {
      "cell_type": "code",
      "execution_count": null,
      "id": "14b24cea-65ff-4437-9579-03d84eb91b3e",
      "metadata": {
        "id": "14b24cea-65ff-4437-9579-03d84eb91b3e"
      },
      "outputs": [],
      "source": [
        "import boto3\n",
        "from sagemaker import get_execution_role\n",
        "import time\n",
        "from datetime import datetime"
      ]
    },
    {
      "cell_type": "markdown",
      "source": [
        "##Clientes e role\n",
        "A seguinte célula cria os clientes para interação com o Amazon Comprehend e Amazon S3.\n",
        "O nome da role de execução do SageMaker também é retornada, para sabermos a qual role adicionar as permissões necessárias."
      ],
      "metadata": {
        "id": "nVyg_z_wc6SB"
      },
      "id": "nVyg_z_wc6SB"
    },
    {
      "cell_type": "code",
      "execution_count": null,
      "id": "0b510f74-075a-4625-b59d-6033fce55720",
      "metadata": {
        "id": "0b510f74-075a-4625-b59d-6033fce55720"
      },
      "outputs": [],
      "source": [
        "comprehend = boto3.client('comprehend')\n",
        "s3 = boto3.client('s3')\n",
        "role = get_execution_role()\n",
        "role"
      ]
    },
    {
      "cell_type": "markdown",
      "source": [
        "##Upload S3\n",
        "Faz o upload do dataset CSV obtido após a limpeza de dados com o primeiro notebook a um bucket S3."
      ],
      "metadata": {
        "id": "nNjp6H6PeWvk"
      },
      "id": "nNjp6H6PeWvk"
    },
    {
      "cell_type": "code",
      "execution_count": null,
      "id": "a654032b-2f28-4551-89fa-83b6bf43dd97",
      "metadata": {
        "id": "a654032b-2f28-4551-89fa-83b6bf43dd97"
      },
      "outputs": [],
      "source": [
        "file_path = 'reports.csv'\n",
        "bucket_name = 'comprehend-classification-datasets'\n",
        "key = 'reports.csv'\n",
        "\n",
        "response = s3.upload_file(file_path, bucket_name, key)\n",
        "response"
      ]
    },
    {
      "cell_type": "markdown",
      "source": [
        "##Classifier do Amazon Comprehend\n",
        "Abaixo, é feita a request para treinar o classificador do Amazon Comprehend com o dataset armazenado no bucket S3. Esse recurso é o modelo de machine learning que irá aprender com os dados inseridos, se tornando capaz de prever a classificação das reports.\n",
        "\n",
        "A variável 'comprehend_role_arn' é a role de execução do Amazon Comprehend que deve ser criada para permitir que o serviço acesse o S3."
      ],
      "metadata": {
        "id": "Q4_KAzxKemFG"
      },
      "id": "Q4_KAzxKemFG"
    },
    {
      "cell_type": "code",
      "execution_count": null,
      "id": "8fe882ba-f467-4bd5-bccc-b9bc7377baed",
      "metadata": {
        "id": "8fe882ba-f467-4bd5-bccc-b9bc7377baed"
      },
      "outputs": [],
      "source": [
        "comprehend_role_arn = 'arn:aws:iam::id_da_conta:role/nome_da_role'\n",
        "classifier_response = comprehend.create_document_classifier(\n",
        "    DocumentClassifierName = 'reports-classifier',\n",
        "    LanguageCode = 'en',\n",
        "    InputDataConfig = {\n",
        "        'S3Uri': 's3://' + bucket_name + '/' + key\n",
        "    },\n",
        "    DataAccessRoleArn=comprehend_role_arn\n",
        ")\n",
        "classifier_response"
      ]
    },
    {
      "cell_type": "markdown",
      "source": [
        "Como esse processo pode demorar vários minutos, a seguinte célula realiza um loop com intervalos de 60 segundos para buscar o status do Classifier, e só para quando o treinamento houver terminado ou levado mais de 3 horas."
      ],
      "metadata": {
        "id": "M_V7iN7lfAiB"
      },
      "id": "M_V7iN7lfAiB"
    },
    {
      "cell_type": "code",
      "execution_count": null,
      "id": "e9501f37-d1ad-4975-a1ad-7446c1b53922",
      "metadata": {
        "id": "e9501f37-d1ad-4975-a1ad-7446c1b53922"
      },
      "outputs": [],
      "source": [
        "classifier_arn = classifier_response['DocumentClassifierArn']\n",
        "max_time = time.time() + 3*60*60\n",
        "while time.time() < max_time:\n",
        "    classifier_description = comprehend.describe_document_classifier(\n",
        "        DocumentClassifierArn=classifier_arn\n",
        "    )\n",
        "    status = classifier_description['DocumentClassifierProperties']['Status']\n",
        "    current_time = datetime.fromtimestamp(time.time()).strftime('%Y-%m-%d %H:%M:%S')\n",
        "    print('Status: ' + status, current_time)\n",
        "\n",
        "    if status != 'TRAINING' and status != 'SUBMITTED':\n",
        "        break\n",
        "\n",
        "    time.sleep(60)"
      ]
    },
    {
      "cell_type": "markdown",
      "source": [
        "##Endpoint do Amazon Comprehend\n",
        "As seguintes células criam um endpoint para o modelo classificador e seguem a mesma lógica das duas células anteriores, fazendo a request e gerando um loop para acompanhar o status.\n",
        "\n",
        "O endpoint é o recurso que tornará acessível o modelo treinado. Só é possível criá-lo com o classifier já pronto."
      ],
      "metadata": {
        "id": "iz7qqpOmfnvH"
      },
      "id": "iz7qqpOmfnvH"
    },
    {
      "cell_type": "code",
      "execution_count": null,
      "id": "2db27e0a-cac7-4173-b4f7-7eba2e344888",
      "metadata": {
        "id": "2db27e0a-cac7-4173-b4f7-7eba2e344888"
      },
      "outputs": [],
      "source": [
        "endpoint_response = comprehend.create_endpoint(\n",
        "    EndpointName='report-classification-endpoint',\n",
        "    ModelArn = classifier_arn,\n",
        "    DesiredInferenceUnits=1\n",
        ")\n",
        "endpoint_response"
      ]
    },
    {
      "cell_type": "code",
      "execution_count": null,
      "id": "c0d28d04-28e7-43e5-a422-4d36ba067fd0",
      "metadata": {
        "id": "c0d28d04-28e7-43e5-a422-4d36ba067fd0"
      },
      "outputs": [],
      "source": [
        "endpoint_arn = endpoint_response['EndpointArn']\n",
        "\n",
        "max_time = time.time() + 3*60*60\n",
        "while time.time() < max_time:\n",
        "    endpoint_description = comprehend.describe_endpoint(\n",
        "        EndpointArn=endpoint_arn\n",
        "    )\n",
        "    status = endpoint_description['EndpointProperties']['Status']\n",
        "    current_time = datetime.fromtimestamp(time.time()).strftime('%Y-%m-%d %H:%M:%S')\n",
        "    print('Status: ' + status, current_time)\n",
        "\n",
        "    if status != 'CREATING':\n",
        "        break\n",
        "\n",
        "    time.sleep(60)"
      ]
    }
  ],
  "metadata": {
    "kernelspec": {
      "display_name": "Python 3 (ipykernel)",
      "language": "python",
      "name": "python3"
    },
    "language_info": {
      "codemirror_mode": {
        "name": "ipython",
        "version": 3
      },
      "file_extension": ".py",
      "mimetype": "text/x-python",
      "name": "python",
      "nbconvert_exporter": "python",
      "pygments_lexer": "ipython3",
      "version": "3.10.13"
    },
    "colab": {
      "provenance": []
    }
  },
  "nbformat": 4,
  "nbformat_minor": 5
}